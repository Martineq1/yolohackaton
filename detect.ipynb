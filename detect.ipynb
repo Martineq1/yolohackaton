{
 "cells": [
  {
   "cell_type": "code",
   "execution_count": 2,
   "metadata": {},
   "outputs": [],
   "source": [
    "from ultralytics import YOLO\n",
    "import numpy as np\n",
    "#from PIL import Image\n",
    "#from io import BytesIO\n",
    "#import cv2"
   ]
  },
  {
   "cell_type": "code",
   "execution_count": 12,
   "metadata": {},
   "outputs": [
    {
     "name": "stderr",
     "output_type": "stream",
     "text": [
      "\n",
      "image 1/1 C:\\Users\\marwl\\Desktop\\model\\detect\\test_2.png: 960x1280 1 demaged-bridge-high, 238.7ms\n",
      "Speed: 13.9ms preprocess, 238.7ms inference, 1.0ms postprocess per image at shape (1, 3, 960, 1280)\n",
      "Results saved to \u001b[1mruns\\detect\\predict8\u001b[0m\n"
     ]
    }
   ],
   "source": [
    "model2 = YOLO('C:\\\\Users\\\\marwl\\\\Desktop\\\\Git\\\\yolo\\\\runs\\\\detect\\\\train\\\\weights\\\\best.pt')\n",
    "\n",
    "test3 = model2.predict(\n",
    "   source='C:\\\\Users\\\\marwl\\\\Desktop\\\\model\\\\detect\\\\test_2.png',\n",
    "   conf=0.6,\n",
    "   save=True,\n",
    "   imgsz=1280,\n",
    "   show=False\n",
    ")\n"
   ]
  }
 ],
 "metadata": {
  "kernelspec": {
   "display_name": "Python 3",
   "language": "python",
   "name": "python3"
  },
  "language_info": {
   "codemirror_mode": {
    "name": "ipython",
    "version": 3
   },
   "file_extension": ".py",
   "mimetype": "text/x-python",
   "name": "python",
   "nbconvert_exporter": "python",
   "pygments_lexer": "ipython3",
   "version": "3.11.5"
  },
  "orig_nbformat": 4
 },
 "nbformat": 4,
 "nbformat_minor": 2
}
